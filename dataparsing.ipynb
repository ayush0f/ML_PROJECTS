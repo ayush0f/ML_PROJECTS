{
  "nbformat": 4,
  "nbformat_minor": 0,
  "metadata": {
    "colab": {
      "provenance": [],
      "mount_file_id": "14NnJC8hhNemJv4nDBceC5I112v6REY9k",
      "authorship_tag": "ABX9TyO4419TmcVRpUxBfNkw46ra",
      "include_colab_link": true
    },
    "kernelspec": {
      "name": "python3",
      "display_name": "Python 3"
    },
    "language_info": {
      "name": "python"
    }
  },
  "cells": [
    {
      "cell_type": "markdown",
      "metadata": {
        "id": "view-in-github",
        "colab_type": "text"
      },
      "source": [
        "<a href=\"https://colab.research.google.com/github/ayush0f/ML_PROJECTS/blob/main/dataparsing.ipynb\" target=\"_parent\"><img src=\"https://colab.research.google.com/assets/colab-badge.svg\" alt=\"Open In Colab\"/></a>"
      ]
    },
    {
      "cell_type": "code",
      "execution_count": 25,
      "metadata": {
        "id": "0rMFMayAwE9b",
        "colab": {
          "base_uri": "https://localhost:8080/"
        },
        "outputId": "448bf25e-e249-467c-85af-56668a59bc30"
      },
      "outputs": [
        {
          "output_type": "stream",
          "name": "stdout",
          "text": [
            "Requirement already satisfied: beautifulsoup4 in /usr/local/lib/python3.11/dist-packages (4.13.3)\n",
            "Requirement already satisfied: lxml in /usr/local/lib/python3.11/dist-packages (5.3.1)\n",
            "Requirement already satisfied: soupsieve>1.2 in /usr/local/lib/python3.11/dist-packages (from beautifulsoup4) (2.6)\n",
            "Requirement already satisfied: typing-extensions>=4.0.0 in /usr/local/lib/python3.11/dist-packages (from beautifulsoup4) (4.12.2)\n"
          ]
        }
      ],
      "source": [
        "import pandas as pd\n",
        "!pip install beautifulsoup4 lxml\n",
        "from bs4 import BeautifulSoup"
      ]
    },
    {
      "cell_type": "code",
      "source": [
        "file_paths = {\n",
        "    \"table_9\": \"/content/data parsing/table_12.html\",\n",
        "    \"table_12\": \"/content/data parsing/table_12.html\",\n",
        "    \"table_62\": \"/content/data parsing/table_62.html\"\n",
        "}\n"
      ],
      "metadata": {
        "id": "0fNhnvV23DcO"
      },
      "execution_count": 2,
      "outputs": []
    },
    {
      "cell_type": "code",
      "source": [
        "def parse_html_table(file_path, table_name):\n",
        "    with open(file_path, \"r\", encoding=\"utf-8\") as file:\n",
        "        soup = BeautifulSoup(file, \"html.parser\")\n",
        "        table = soup.find(\"table\")"
      ],
      "metadata": {
        "id": "Azvnw60k3uWS"
      },
      "execution_count": 3,
      "outputs": []
    },
    {
      "cell_type": "code",
      "source": [
        "def parse_html_table(file_path, table_name):\n",
        "    with open(file_path, \"r\", encoding=\"utf-8\") as file:\n",
        "        soup = BeautifulSoup(file, \"html.parser\")\n",
        "        table = soup.find(\"table\")\n",
        "    data = []\n",
        "    if table:\n",
        "        rows = table.find_all(\"tr\")\n",
        "        headers = [th.get_text(strip=True) for th in rows[0].find_all(\"th\")] if rows else []\n",
        "\n",
        "        for row in rows[1:]:  # Skip headers\n",
        "            cols = row.find_all(\"td\")\n",
        "            row_data = [col.get_text(strip=True) for col in cols]\n",
        "            if row_data:\n",
        "                data.append(row_data)\n",
        "    return headers, data # Indentation corrected here as well to align with the function definition"
      ],
      "metadata": {
        "id": "UImxNkvH4W91"
      },
      "execution_count": 13,
      "outputs": []
    },
    {
      "cell_type": "code",
      "source": [
        "parsed_data = {}\n",
        "for name, path in file_paths.items():\n",
        "    headers, data = parse_html_table(path, name)\n",
        "    parsed_data[name] = {\"headers\": headers, \"data\": data}\n"
      ],
      "metadata": {
        "id": "kbASLsCS5Oc8"
      },
      "execution_count": 14,
      "outputs": []
    },
    {
      "cell_type": "code",
      "source": [
        "display(parsed_data)"
      ],
      "metadata": {
        "colab": {
          "base_uri": "https://localhost:8080/",
          "height": 1000
        },
        "collapsed": true,
        "id": "WlXoKpTl5psl",
        "outputId": "44d5a828-bd69-4a72-c47b-c4135facef6f"
      },
      "execution_count": 16,
      "outputs": [
        {
          "output_type": "display_data",
          "data": {
            "text/plain": [
              "{'table_9': {'headers': [],\n",
              "  'data': [['', '', '', '', 'Three months ended March 31'],\n",
              "   ['In millions', '', '', '', '', '', '2022', '', '2021'],\n",
              "   ['Net cash provided by operating activities',\n",
              "    '',\n",
              "    '',\n",
              "    '',\n",
              "    '',\n",
              "    '',\n",
              "    '$',\n",
              "    '570',\n",
              "    '',\n",
              "    '',\n",
              "    '$',\n",
              "    '952',\n",
              "    ''],\n",
              "   ['Net cash used in investing activities',\n",
              "    '',\n",
              "    '',\n",
              "    '',\n",
              "    '',\n",
              "    '',\n",
              "    '(101)',\n",
              "    '',\n",
              "    '',\n",
              "    '(413)',\n",
              "    ''],\n",
              "   ['Net cash provided before financing activities',\n",
              "    '',\n",
              "    '',\n",
              "    '',\n",
              "    '',\n",
              "    '',\n",
              "    '469',\n",
              "    '',\n",
              "    '',\n",
              "    '539',\n",
              "    ''],\n",
              "   ['Adjustment:Cash income taxes for merger transaction-related payments and cash receipts(1)',\n",
              "    '',\n",
              "    '',\n",
              "    '',\n",
              "    '',\n",
              "    '',\n",
              "    '102',\n",
              "    '',\n",
              "    '',\n",
              "    '—',\n",
              "    ''],\n",
              "   ['', '', '', '', '', '', '', '', ''],\n",
              "   ['', '', '', '', '', '', '', '', ''],\n",
              "   ['', '', '', '', '', '', '', '', ''],\n",
              "   ['', '', '', '', '', '', '', '', ''],\n",
              "   ['', '', '', '', '', '', '', '', ''],\n",
              "   ['', '', '', '', '', '', '', '', ''],\n",
              "   ['', '', '', '', '', '', '', '', ''],\n",
              "   ['Free cash flow',\n",
              "    '',\n",
              "    '',\n",
              "    '',\n",
              "    '',\n",
              "    '',\n",
              "    '$',\n",
              "    '571',\n",
              "    '',\n",
              "    '',\n",
              "    '$',\n",
              "    '539',\n",
              "    '']]},\n",
              " 'table_12': {'headers': [],\n",
              "  'data': [['', '', '', '', 'Three months ended March 31'],\n",
              "   ['In millions', '', '', '', '', '', '2022', '', '2021'],\n",
              "   ['Net cash provided by operating activities',\n",
              "    '',\n",
              "    '',\n",
              "    '',\n",
              "    '',\n",
              "    '',\n",
              "    '$',\n",
              "    '570',\n",
              "    '',\n",
              "    '',\n",
              "    '$',\n",
              "    '952',\n",
              "    ''],\n",
              "   ['Net cash used in investing activities',\n",
              "    '',\n",
              "    '',\n",
              "    '',\n",
              "    '',\n",
              "    '',\n",
              "    '(101)',\n",
              "    '',\n",
              "    '',\n",
              "    '(413)',\n",
              "    ''],\n",
              "   ['Net cash provided before financing activities',\n",
              "    '',\n",
              "    '',\n",
              "    '',\n",
              "    '',\n",
              "    '',\n",
              "    '469',\n",
              "    '',\n",
              "    '',\n",
              "    '539',\n",
              "    ''],\n",
              "   ['Adjustment:Cash income taxes for merger transaction-related payments and cash receipts(1)',\n",
              "    '',\n",
              "    '',\n",
              "    '',\n",
              "    '',\n",
              "    '',\n",
              "    '102',\n",
              "    '',\n",
              "    '',\n",
              "    '—',\n",
              "    ''],\n",
              "   ['', '', '', '', '', '', '', '', ''],\n",
              "   ['', '', '', '', '', '', '', '', ''],\n",
              "   ['', '', '', '', '', '', '', '', ''],\n",
              "   ['', '', '', '', '', '', '', '', ''],\n",
              "   ['', '', '', '', '', '', '', '', ''],\n",
              "   ['', '', '', '', '', '', '', '', ''],\n",
              "   ['', '', '', '', '', '', '', '', ''],\n",
              "   ['Free cash flow',\n",
              "    '',\n",
              "    '',\n",
              "    '',\n",
              "    '',\n",
              "    '',\n",
              "    '$',\n",
              "    '571',\n",
              "    '',\n",
              "    '',\n",
              "    '$',\n",
              "    '539',\n",
              "    '']]},\n",
              " 'table_62': {'headers': [],\n",
              "  'data': [['',\n",
              "    '',\n",
              "    '',\n",
              "    '',\n",
              "    '',\n",
              "    '',\n",
              "    '',\n",
              "    '',\n",
              "    '',\n",
              "    '',\n",
              "    '',\n",
              "    '',\n",
              "    '',\n",
              "    '2027 & thereafter'],\n",
              "   ['In millions',\n",
              "    'Total',\n",
              "    '',\n",
              "    '2022',\n",
              "    '',\n",
              "    '2023',\n",
              "    '',\n",
              "    '2024',\n",
              "    '',\n",
              "    '2025',\n",
              "    '',\n",
              "    '2026',\n",
              "    ''],\n",
              "   ['Debt obligations(1)',\n",
              "    '$',\n",
              "    '13,380',\n",
              "    '',\n",
              "    '',\n",
              "    '$',\n",
              "    '1,495',\n",
              "    '',\n",
              "    '',\n",
              "    '$',\n",
              "    '220',\n",
              "    '',\n",
              "    '',\n",
              "    '$',\n",
              "    '471',\n",
              "    '',\n",
              "    '',\n",
              "    '$',\n",
              "    '384',\n",
              "    '',\n",
              "    '',\n",
              "    '$',\n",
              "    '661',\n",
              "    '',\n",
              "    '',\n",
              "    '$',\n",
              "    '10,149',\n",
              "    ''],\n",
              "   ['Interest on debt obligations',\n",
              "    '9,056',\n",
              "    '',\n",
              "    '',\n",
              "    '328',\n",
              "    '',\n",
              "    '',\n",
              "    '483',\n",
              "    '',\n",
              "    '',\n",
              "    '476',\n",
              "    '',\n",
              "    '',\n",
              "    '462',\n",
              "    '',\n",
              "    '',\n",
              "    '443',\n",
              "    '',\n",
              "    '',\n",
              "    '6,864',\n",
              "    ''],\n",
              "   ['Finance lease obligations',\n",
              "    '3',\n",
              "    '',\n",
              "    '1',\n",
              "    '',\n",
              "    '',\n",
              "    '0',\n",
              "    '',\n",
              "    '0',\n",
              "    '',\n",
              "    '0',\n",
              "    '',\n",
              "    '2',\n",
              "    '',\n",
              "    '0'],\n",
              "   ['Operating lease obligations(2)',\n",
              "    '468',\n",
              "    '',\n",
              "    '91',\n",
              "    '',\n",
              "    '100',\n",
              "    '',\n",
              "    '73',\n",
              "    '',\n",
              "    '60',\n",
              "    '',\n",
              "    '40',\n",
              "    '',\n",
              "    '104'],\n",
              "   ['Purchase obligations(3)',\n",
              "    '1,654',\n",
              "    '',\n",
              "    '',\n",
              "    '1,178',\n",
              "    '',\n",
              "    '',\n",
              "    '253',\n",
              "    '',\n",
              "    '',\n",
              "    '111',\n",
              "    '',\n",
              "    '',\n",
              "    '106',\n",
              "    '',\n",
              "    '',\n",
              "    '1',\n",
              "    '',\n",
              "    '',\n",
              "    '5',\n",
              "    ''],\n",
              "   ['Other long-term liabilities(4)',\n",
              "    '657',\n",
              "    '',\n",
              "    '',\n",
              "    '74',\n",
              "    '',\n",
              "    '',\n",
              "    '51',\n",
              "    '',\n",
              "    '',\n",
              "    '43',\n",
              "    '',\n",
              "    '',\n",
              "    '41',\n",
              "    '',\n",
              "    '',\n",
              "    '33',\n",
              "    '',\n",
              "    '',\n",
              "    '415',\n",
              "    ''],\n",
              "   ['Total contractual obligations',\n",
              "    '$',\n",
              "    '25,218',\n",
              "    '',\n",
              "    '',\n",
              "    '$',\n",
              "    '3,167',\n",
              "    '',\n",
              "    '',\n",
              "    '$',\n",
              "    '1,107',\n",
              "    '',\n",
              "    '',\n",
              "    '$',\n",
              "    '1,174',\n",
              "    '',\n",
              "    '',\n",
              "    '$',\n",
              "    '1,053',\n",
              "    '',\n",
              "    '',\n",
              "    '$',\n",
              "    '1,180',\n",
              "    '',\n",
              "    '',\n",
              "    '$',\n",
              "    '17,537',\n",
              "    '']]}}"
            ]
          },
          "metadata": {}
        }
      ]
    },
    {
      "cell_type": "code",
      "source": [
        "structured_data = []"
      ],
      "metadata": {
        "id": "g0hsPEnu5unB"
      },
      "execution_count": 17,
      "outputs": []
    },
    {
      "cell_type": "code",
      "source": [
        "for table_name, table_info in parsed_data.items():\n",
        "    headers = table_info[\"headers\"]\n",
        "    data = table_info[\"data\"]\n",
        "\n",
        "    for row in data:\n",
        "        row_dict = {\"filename\": table_name}\n",
        "\n",
        "        # Map each column to its respective header\n",
        "        for i, value in enumerate(row):\n",
        "            if i < len(headers):\n",
        "                column_name = headers[i]\n",
        "            else:\n",
        "                column_name = f\"Column {i+1}\"  # Fallback for missing headers\n",
        "\n",
        "            row_dict[column_name] = value\n",
        "\n",
        "        structured_data.append(row_dict)\n"
      ],
      "metadata": {
        "id": "KzaaCq9H5v5u"
      },
      "execution_count": 18,
      "outputs": []
    },
    {
      "cell_type": "code",
      "source": [
        "df = pd.DataFrame(structured_data)"
      ],
      "metadata": {
        "id": "RfhDEWhO53HT"
      },
      "execution_count": 19,
      "outputs": []
    },
    {
      "cell_type": "code",
      "source": [
        "excel_path = \"/content/drive/MyDrive/Classroom/parsed_data.xlsx\"\n",
        "df.to_excel(excel_path, index=False)\n"
      ],
      "metadata": {
        "id": "M7rtWzpi588X"
      },
      "execution_count": 21,
      "outputs": []
    },
    {
      "cell_type": "code",
      "source": [
        "print(excel_path)"
      ],
      "metadata": {
        "colab": {
          "base_uri": "https://localhost:8080/"
        },
        "id": "r7PUfmtU6ZpY",
        "outputId": "41905352-e37e-42c8-cdf2-5ea815089c1a"
      },
      "execution_count": 24,
      "outputs": [
        {
          "output_type": "stream",
          "name": "stdout",
          "text": [
            "/content/drive/MyDrive/Classroom/parsed_data.xlsx\n"
          ]
        }
      ]
    }
  ]
}